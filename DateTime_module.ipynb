{
  "nbformat": 4,
  "nbformat_minor": 0,
  "metadata": {
    "colab": {
      "provenance": []
    },
    "kernelspec": {
      "name": "python3",
      "display_name": "Python 3"
    },
    "language_info": {
      "name": "python"
    }
  },
  "cells": [
    {
      "cell_type": "code",
      "source": [
        "import datetime"
      ],
      "metadata": {
        "id": "vzGVCNduWLt2"
      },
      "execution_count": null,
      "outputs": []
    },
    {
      "cell_type": "code",
      "source": [
        "# Get the current date and time\n",
        "current_datetime = datetime.datetime.now()\n",
        "print(\"Current date and time:\", current_datetime)"
      ],
      "metadata": {
        "colab": {
          "base_uri": "https://localhost:8080/"
        },
        "id": "khpeHaqHyR3m",
        "outputId": "aeefc7cd-aff3-459b-e03e-812cba3e4c9a"
      },
      "execution_count": null,
      "outputs": [
        {
          "output_type": "stream",
          "name": "stdout",
          "text": [
            "Current date and time: 2023-10-09 09:34:20.028066\n"
          ]
        }
      ]
    },
    {
      "cell_type": "code",
      "source": [
        "# Get the current date (without time)\n",
        "current_date = datetime.date.today()\n",
        "print(\"Current date:\", current_date)"
      ],
      "metadata": {
        "colab": {
          "base_uri": "https://localhost:8080/"
        },
        "id": "Zhk8V0qkyR8d",
        "outputId": "8e849d11-26ff-4810-d869-a70e6d831d8c"
      },
      "execution_count": null,
      "outputs": [
        {
          "output_type": "stream",
          "name": "stdout",
          "text": [
            "Current date: 2023-10-09\n"
          ]
        }
      ]
    },
    {
      "cell_type": "code",
      "source": [
        "# Create a date object\n",
        "custom_date = datetime.date(2023, 4, 15)\n",
        "print(\"Custom date:\", custom_date)"
      ],
      "metadata": {
        "colab": {
          "base_uri": "https://localhost:8080/"
        },
        "id": "NEv7CHrXyR-t",
        "outputId": "55628d1e-700e-41b9-ac01-38f0ae4dd6c5"
      },
      "execution_count": null,
      "outputs": [
        {
          "output_type": "stream",
          "name": "stdout",
          "text": [
            "Custom date: 2023-04-15\n"
          ]
        }
      ]
    },
    {
      "cell_type": "code",
      "source": [
        "# Create a time object\n",
        "custom_time = datetime.time(14, 30, 0)\n",
        "print(\"Custom time:\", custom_time)"
      ],
      "metadata": {
        "colab": {
          "base_uri": "https://localhost:8080/"
        },
        "id": "kmiAS27FySC9",
        "outputId": "0548b15b-afb6-4e6e-a95c-e3d5b7d5f331"
      },
      "execution_count": null,
      "outputs": [
        {
          "output_type": "stream",
          "name": "stdout",
          "text": [
            "Custom time: 14:30:00\n"
          ]
        }
      ]
    },
    {
      "cell_type": "code",
      "source": [
        "# Format a date as a string\n",
        "formatted_date = current_date.strftime('%Y-%m-%d')\n",
        "print(\"Formatted date:\", formatted_date)"
      ],
      "metadata": {
        "colab": {
          "base_uri": "https://localhost:8080/"
        },
        "id": "4eXbSWK7ySFv",
        "outputId": "e722cf43-2441-442c-9bb9-06b577368b7e"
      },
      "execution_count": null,
      "outputs": [
        {
          "output_type": "stream",
          "name": "stdout",
          "text": [
            "Formatted date: 2023-10-09\n"
          ]
        }
      ]
    },
    {
      "cell_type": "code",
      "source": [
        "# Parse a string into a datetime object\n",
        "date_string = \"2023-04-15\"\n",
        "parsed_date = datetime.datetime.fromisoformat(date_string)\n",
        "print(\"Parsed date:\", parsed_date)"
      ],
      "metadata": {
        "colab": {
          "base_uri": "https://localhost:8080/"
        },
        "id": "BlcaO9FKySH2",
        "outputId": "81faba5a-31d8-4284-e950-d40281269252"
      },
      "execution_count": null,
      "outputs": [
        {
          "output_type": "stream",
          "name": "stdout",
          "text": [
            "Parsed date: 2023-04-15 00:00:00\n"
          ]
        }
      ]
    },
    {
      "cell_type": "code",
      "source": [
        "# Calculate the difference between two dates\n",
        "date1 = datetime.date(2023, 4, 15)\n",
        "date2 = datetime.date(2023, 4, 10)\n",
        "date_difference = date1 - date2\n",
        "print(\"Date difference:\", date_difference.days, \"days\")"
      ],
      "metadata": {
        "colab": {
          "base_uri": "https://localhost:8080/"
        },
        "id": "d6v6Cb4Xyn01",
        "outputId": "562755f5-b8e1-4abe-b768-6c2027c6a360"
      },
      "execution_count": null,
      "outputs": [
        {
          "output_type": "stream",
          "name": "stdout",
          "text": [
            "Date difference: 5 days\n"
          ]
        }
      ]
    },
    {
      "cell_type": "code",
      "source": [
        "# Create a timedelta object representing a duration\n",
        "duration = datetime.timedelta(days=3, hours=4)\n",
        "print(\"Duration:\", duration)"
      ],
      "metadata": {
        "colab": {
          "base_uri": "https://localhost:8080/"
        },
        "id": "UuIEIE-Ayn31",
        "outputId": "326bc0c2-0413-4f64-841e-3c15c2cba58b"
      },
      "execution_count": null,
      "outputs": [
        {
          "output_type": "stream",
          "name": "stdout",
          "text": [
            "Duration: 3 days, 4:00:00\n"
          ]
        }
      ]
    },
    {
      "cell_type": "code",
      "source": [
        "# Perform date arithmetic\n",
        "new_date = custom_date + duration\n",
        "print(\"New date:\", new_date)"
      ],
      "metadata": {
        "colab": {
          "base_uri": "https://localhost:8080/"
        },
        "id": "j3gKOCnlyn81",
        "outputId": "77dc17ee-cf4b-4a05-a218-355a08da8196"
      },
      "execution_count": null,
      "outputs": [
        {
          "output_type": "stream",
          "name": "stdout",
          "text": [
            "New date: 2023-04-18\n"
          ]
        }
      ]
    },
    {
      "cell_type": "code",
      "source": [
        "# Compare two dates\n",
        "if date1 > date2:\n",
        "    print(\"date1 is later than date2\")\n",
        "else:\n",
        "    print(\"date1 is earlier than date2\")"
      ],
      "metadata": {
        "colab": {
          "base_uri": "https://localhost:8080/"
        },
        "id": "do3raqTYyoCV",
        "outputId": "b898ddee-2570-433b-829e-35973e894ffa"
      },
      "execution_count": null,
      "outputs": [
        {
          "output_type": "stream",
          "name": "stdout",
          "text": [
            "date1 is later than date2\n"
          ]
        }
      ]
    },
    {
      "cell_type": "code",
      "source": [],
      "metadata": {
        "id": "RKOPLg3syoFI"
      },
      "execution_count": null,
      "outputs": []
    },
    {
      "cell_type": "code",
      "source": [],
      "metadata": {
        "id": "Q0AIAOQpyoH3"
      },
      "execution_count": null,
      "outputs": []
    }
  ]
}